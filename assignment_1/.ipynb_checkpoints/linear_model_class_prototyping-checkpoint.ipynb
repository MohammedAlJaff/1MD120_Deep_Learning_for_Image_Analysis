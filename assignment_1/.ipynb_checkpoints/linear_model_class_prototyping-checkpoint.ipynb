{
 "cells": [
  {
   "cell_type": "code",
   "execution_count": 1,
   "id": "89ee3a4e",
   "metadata": {},
   "outputs": [],
   "source": [
    "import numpy as np \n",
    "import load_auto\n",
    "import matplotlib.pyplot as plt\n",
    "    "
   ]
  },
  {
   "cell_type": "code",
   "execution_count": 104,
   "id": "c51632df",
   "metadata": {},
   "outputs": [],
   "source": [
    "# Data functions\n",
    "\n",
    "def standarize_data(X):\n",
    "    'Assume X is a data matrix with n rows/data points, '\n",
    "    \n",
    "    feature_means = np.mean(X, axis=0)\n",
    "    feature_std = np.std(X, axis=0)\n",
    "    \n",
    "    standardized_X = (X - feature_means)/feature_std\n",
    "    return standardized_X\n",
    "\n"
   ]
  },
  {
   "cell_type": "code",
   "execution_count": 105,
   "id": "054f8564",
   "metadata": {},
   "outputs": [],
   "source": [
    "class LinearRegressionModel():\n",
    "    \n",
    "    # status:\n",
    "    def __init__(self, data_X, true_label_Y, learning_rate=0.01):\n",
    "        \n",
    "        self.__initialize_parameters(data_X)\n",
    "        \n",
    "        # gradient decent step-size\n",
    "        self.learning_rate = learning_rate\n",
    "        print(f\"nr of params: {self.nr_params}\")\n",
    "        \n",
    "        \n",
    "    # status:    \n",
    "    def __initialize_parameters(self, X):\n",
    "    \n",
    "        self.nr_params = self.__determine_nr_model_params(X)\n",
    "        \n",
    "        self.b = 0\n",
    "        self.b = 0.01*np.random.normal(1)\n",
    "        \n",
    "        self.W = np.zeros([self.nr_params-1, 1]) \n",
    "        self.W = 0.01*np.random.normal(size=self.nr_params-1).reshape([self.nr_params-1, 1])\n",
    "    \n",
    "    \n",
    "    # status:\n",
    "    def __determine_nr_model_params(self, X):\n",
    "        return X.shape[1] + 1 # Number of features + extra for ofs\n",
    "    \n",
    "    \n",
    "    # status:\n",
    "    def nr_of_params(self):\n",
    "        return self.nr_params\n",
    "    \n",
    "    \n",
    "    # status:        \n",
    "    def model_forward(self, X):\n",
    "        \n",
    "        if self.W.shape[0] != X.shape[1]:            \n",
    "            raise Exception('Data matrix is wrong shape')\n",
    "        \n",
    "        preds = np.matmul(X, self.W) + self.b\n",
    "        \n",
    "        preds = preds.reshape([np.size(preds),1])\n",
    "                              \n",
    "        #print(f\"[model forwards]- preds shape: {preds.shape}\")\n",
    "        \n",
    "        return preds\n",
    "    \n",
    "    def predict(self, X):\n",
    "        return self.model_forward(X)\n",
    "    \n",
    "    \n",
    "    # status: \n",
    "    def compute_cost(self, X, y_true):\n",
    "        \n",
    "        # Dataset size\n",
    "        N = X.shape[0]\n",
    "        \n",
    "        #print(f\"compute_cost N: {N}\")\n",
    "       \n",
    "        y_preds = self.model_forward(X)\n",
    "        #print(f\"compute_cost sum of y_preds: {np.sum(y_preds)}\")\n",
    "        #print(f\"compute_cost of y_preds shape: {y_preds.shape}\")\n",
    "        #print(f\"compute_cost sum of y_true: {np.sum(y_true)}\")\n",
    "    \n",
    "        y_true = y_true.reshape([np.size(y_true),1])\n",
    "        reg_err_vec = (y_true-y_preds)\n",
    "        #print(f\"compute_cost reg_erro_vec shape: {reg_err_vec.shape}\")\n",
    "        \n",
    "        cc_cost = np.sum(np.square(y_true-y_preds)) / N\n",
    "        #print(f\"compute_cost cost: {cc_cost}\")\n",
    "        \n",
    "        return cc_cost\n",
    "    \n",
    "    \n",
    "    \n",
    "    def J(self, X, y_true, w, b):\n",
    "        \n",
    "        N = X.shape[0]\n",
    "        #print(f\"__J N: {N}\")\n",
    "        y_preds = np.matmul(X, w) + b\n",
    "        y_preds = y_preds.reshape([np.size(y_preds),1])\n",
    "        \n",
    "        y_true = y_true.reshape([np.size(y_true),1])\n",
    "        \n",
    "        #print(f\"J sum of y_preds: {np.sum(y_preds)}\")\n",
    "        #print(f\"J sum of y_preds shape: {y_preds.shape}\")\n",
    "        \n",
    "        #print(f\"J sum of y_true: {np.sum(y_true)}\")\n",
    "        \n",
    "        reg_err_vec = (y_true-y_preds)\n",
    "        #print(f\"J reg_erro_vec shape: {reg_err_vec.shape}\")\n",
    "        \n",
    "        J_cost = np.sum(np.square(y_true-y_preds)) / N\n",
    "        #print(f\"J cost: {J_cost}\")\n",
    "        return J_cost\n",
    "    \n",
    "    \n",
    "    \n",
    "    \n",
    "    def grad_J(self, X, y_true):\n",
    "        \n",
    "        N = X.shape[0]\n",
    "        #print(f\"N: {N}\")\n",
    "        \n",
    "        y_preds = self.model_forward(X)\n",
    "        \n",
    "        #print(f'[grad_J function]shape of y_preds: {y_preds.shape}')\n",
    "        \n",
    "        s = 2*(np.matmul(X.T, (y_preds-y_true)))\n",
    "        #print(f\"s shape: {s.shape}\")\n",
    "    \n",
    "        grad_J_w = s/N\n",
    "        grad_J_b = (2*np.sum(y_preds-y_true))/N\n",
    "        \n",
    "        \n",
    "        return grad_J_w, grad_J_b\n",
    "    \n",
    "    \n",
    "    def update_parameters(self, X, y_true, learning_rate=0.01):\n",
    "        \n",
    "        grad_J_w, grad_J_b = self.grad_J(X, y_true)    \n",
    "        self.W = self.W  - learning_rate*grad_J_w\n",
    "        self.b = self.b  - learning_rate*grad_J_b\n",
    "    \n",
    "    def train_linear_model(self, X, y_true, nr_iter, learning_rate=0.01):\n",
    "        \n",
    "        training_J = np.zeros(nr_iter)\n",
    "        \n",
    "        for i in range(nr_iter):\n",
    "            self.update_parameters(X, y_true, learning_rate)\n",
    "            training_J[i] = self.compute_cost(X, y_true)\n",
    "            \n",
    "            \n",
    "        print('done')\n",
    "        \n",
    "        return self.W, self.b, training_J\n",
    "    \n",
    "    \n",
    "    def numerical_grad_J(self, X, y_true, h=0.0001):\n",
    "        \n",
    "        W =  self.W\n",
    "        b = self.b\n",
    "        \n",
    "        num_grad_J_w = []\n",
    "        for j in range(np.size(W)):\n",
    "            \n",
    "            dW = np.zeros_like(W)\n",
    "            dW[j] = h\n",
    "            \n",
    "            W_plus_dW = W+dW\n",
    "        \n",
    "            num_grad_J_w_j = (self.J(X, y_true, W_plus_dW, b) - self.J(X, y_true, W, b))/h        \n",
    "            num_grad_J_w.append(num_grad_J_w_j)\n",
    "\n",
    "            #print(num_grad_J_w_j)\n",
    "        \n",
    "        \n",
    "        num_grad_J_w  = np.array(num_grad_J_w).reshape(W.shape)\n",
    "        \n",
    "        db = h\n",
    "        num_grad_J_b = (self.J(X, y_true, W, b+db) - self.J(X, y_true, W, b)) / h\n",
    "        #print(num_grad_J_b)\n",
    "        \n",
    "        return num_grad_J_w, num_grad_J_b \n",
    "            \n",
    "    \n",
    "    \n",
    "        \n",
    "    \n",
    "    def update_params_one_step_numeric(self, X, y_true):\n",
    "        \n",
    "        grad_J_w, grad_J_b = self.numerical_grad_J(X, y_true)\n",
    "        \n",
    "        self.W = self.W  - self.learning_rate*grad_J_w\n",
    "        self.b = self.b  - self.learning_rate*grad_J_b\n",
    "        \n",
    "    \n",
    "    \n",
    "    \n",
    "    def replace_params(self, W_new, b_new):\n",
    "        if W_new.shape != self.W.shape:\n",
    "            msg = f\"Model W shape: {self.W.shape}. Replacement shape {W_new.shape}\"\n",
    "            raise Exception(f\"Error in new param dimensions\\n {msg}\")\n",
    "        \n",
    "        self.W = W_new\n",
    "        self.b = b_new\n",
    "        \n",
    "        \n",
    "        \n",
    "    def get_params(self):\n",
    "        return self.W, self.b\n",
    "    \n",
    "    "
   ]
  },
  {
   "cell_type": "code",
   "execution_count": 106,
   "id": "c807e7f6",
   "metadata": {},
   "outputs": [
    {
     "name": "stdout",
     "output_type": "stream",
     "text": [
      "shape of X:  (392, 7)\n",
      "shape of y_true:  (392, 1)\n"
     ]
    }
   ],
   "source": [
    "# Load data\n",
    "# NOTE: ALREADY CHOPED UP INTO Y=MPG AND X=rest\n",
    "X, y_true = load_auto.load_auto()\n",
    "\n",
    "X = standarize_data(X)\n",
    "#y_true = standarize_data(y_true)\n",
    "\n",
    "print('shape of X: ', X.shape)\n",
    "print('shape of y_true: ', y_true.shape)"
   ]
  },
  {
   "cell_type": "code",
   "execution_count": 107,
   "id": "b6ed85cf",
   "metadata": {},
   "outputs": [
    {
     "name": "stdout",
     "output_type": "stream",
     "text": [
      "nr of params: 8\n",
      "w: [[ 0.01931568]\n",
      " [-0.01327574]\n",
      " [-0.00337244]\n",
      " [-0.00148591]\n",
      " [ 0.00099833]\n",
      " [-0.00739235]\n",
      " [ 0.0016486 ]]\n",
      "b: 0.02656771021387267\n",
      "w shape: (7, 1)\n"
     ]
    }
   ],
   "source": [
    "# Define and instantiate model\n",
    "maj_model = LinearRegressionModel(data_X=X, true_label_Y=y_true)\n",
    "maj_model.nr_of_params()\n",
    "print(f\"w: {maj_model.W}\")\n",
    "print(f\"b: {maj_model.b}\")\n",
    "print(f'w shape: {maj_model.W.shape}')"
   ]
  },
  {
   "cell_type": "code",
   "execution_count": 108,
   "id": "5ca7fb39",
   "metadata": {},
   "outputs": [],
   "source": [
    "# Testing model_forward\n",
    "bla = maj_model.model_forward(X)"
   ]
  },
  {
   "cell_type": "code",
   "execution_count": 109,
   "id": "a74e9216",
   "metadata": {},
   "outputs": [
    {
     "name": "stdout",
     "output_type": "stream",
     "text": [
      "cc_cost 609.2819249083684\n",
      "j_cost 609.2819249083684\n"
     ]
    },
    {
     "data": {
      "text/plain": [
       "(7, 1)"
      ]
     },
     "execution_count": 109,
     "metadata": {},
     "output_type": "execute_result"
    }
   ],
   "source": [
    "# Comparing compute_cost function and J function\n",
    "\n",
    "\n",
    "cc_cost = maj_model.compute_cost(X=X, y_true=y_true)\n",
    "\n",
    "j_cost = maj_model.J(X=X, y_true=y_true, w=maj_model.W, b=maj_model.b)\n",
    "\n",
    "print(f\"cc_cost {cc_cost}\")\n",
    "print(f\"j_cost {j_cost}\")\n",
    "\n",
    "maj_model.W.shape"
   ]
  },
  {
   "cell_type": "code",
   "execution_count": 110,
   "id": "2ee6bce5",
   "metadata": {},
   "outputs": [
    {
     "name": "stdout",
     "output_type": "stream",
     "text": [
      "[[12.13038734]\n",
      " [12.55571449]\n",
      " [12.13845167]\n",
      " [12.97766986]\n",
      " [-6.60049533]\n",
      " [-9.06409897]\n",
      " [-8.81147127]]\n"
     ]
    }
   ],
   "source": [
    "# Comparing numerical grad cal and symbolic\n",
    "cc_gradJ_w, cc_gradJ_b = maj_model.grad_J(X=X, y_true=y_true)\n",
    "print(cc_gradJ_w)"
   ]
  },
  {
   "cell_type": "code",
   "execution_count": 111,
   "id": "d870fdb9",
   "metadata": {},
   "outputs": [
    {
     "name": "stdout",
     "output_type": "stream",
     "text": [
      "done\n"
     ]
    }
   ],
   "source": [
    "w_best, b_best, training_Js  = maj_model.train_linear_model(X=X, y_true=y_true, nr_iter=11000)\n"
   ]
  },
  {
   "cell_type": "code",
   "execution_count": 112,
   "id": "3a5da850",
   "metadata": {},
   "outputs": [
    {
     "name": "stdout",
     "output_type": "stream",
     "text": [
      "[[-0.83957853]\n",
      " [ 2.07754193]\n",
      " [-0.65129066]\n",
      " [-5.49164439]\n",
      " [ 0.22197381]\n",
      " [ 2.76209955]\n",
      " [ 1.14717106]]\n",
      "23.445918367346856\n"
     ]
    },
    {
     "data": {
      "image/png": "[encoded data removed]",
      "text/plain": [
       "<Figure size 432x288 with 1 Axes>"
      ]
     },
     "metadata": {
      "needs_background": "light"
     },
     "output_type": "display_data"
    }
   ],
   "source": [
    "plt.plot(training_Js)\n",
    "print(w_best)\n",
    "print(b_best)"
   ]
  },
  {
   "cell_type": "code",
   "execution_count": 93,
   "id": "59402032",
   "metadata": {
    "scrolled": true,
    "tags": []
   },
   "outputs": [
    {
     "data": {
      "text/plain": [
       "\"\\n\\nnr_iter = 1000\\ntraining_curve = np.zeros(nr_iter)\\n\\nfor i in range(nr_iter):\\n    #maj_model.update_params_one_step(X=X, y_true=y_true)\\n    maj_model.update_params_one_step_numeric(X=X, y_true=y_true)\\n    \\n    cc_gradJ_w, cc_gradJ_b = maj_model.grad_J(X=X, y_true=y_true)\\n    num_gradJ_w, num_gradJ_b = maj_model.numerical_grad_J(X=X, y_true=y_true)\\n    \\n    print('num b: ', num_gradJ_b)\\n    print('cc b: ', cc_gradJ_b)\\n    print('...')\\n    #print('b: ', maj_model.b)\\n    #print(maj_model.W)\\n    training_curve[i]=maj_model.compute_cost(X=X, y_true=y_true)\\n\""
      ]
     },
     "execution_count": 93,
     "metadata": {},
     "output_type": "execute_result"
    }
   ],
   "source": [
    "'''\n",
    "nr_iter = 1000\n",
    "training_curve = np.zeros(nr_iter)\n",
    "\n",
    "for i in range(nr_iter):\n",
    "    #maj_model.update_params_one_step(X=X, y_true=y_true)\n",
    "    maj_model.update_params_one_step_numeric(X=X, y_true=y_true)\n",
    "    \n",
    "    cc_gradJ_w, cc_gradJ_b = maj_model.grad_J(X=X, y_true=y_true)\n",
    "    num_gradJ_w, num_gradJ_b = maj_model.numerical_grad_J(X=X, y_true=y_true)\n",
    "    \n",
    "    print('num b: ', num_gradJ_b)\n",
    "    print('cc b: ', cc_gradJ_b)\n",
    "    print('...')\n",
    "    #print('b: ', maj_model.b)\n",
    "    #print(maj_model.W)\n",
    "    training_curve[i]=maj_model.compute_cost(X=X, y_true=y_true)\n",
    "'''\n"
   ]
  },
  {
   "cell_type": "code",
   "execution_count": 94,
   "id": "592ca5f4",
   "metadata": {},
   "outputs": [
    {
     "ename": "NameError",
     "evalue": "name 'training_curve' is not defined",
     "output_type": "error",
     "traceback": [
      "\u001b[0;31m---------------------------------------------------------------------------\u001b[0m",
      "\u001b[0;31mNameError\u001b[0m                                 Traceback (most recent call last)",
      "\u001b[0;32m<ipython-input-94-1a99d412206a>\u001b[0m in \u001b[0;36m<module>\u001b[0;34m\u001b[0m\n\u001b[0;32m----> 1\u001b[0;31m \u001b[0mplt\u001b[0m\u001b[0;34m.\u001b[0m\u001b[0mplot\u001b[0m\u001b[0;34m(\u001b[0m\u001b[0mtraining_curve\u001b[0m\u001b[0;34m)\u001b[0m\u001b[0;34m\u001b[0m\u001b[0;34m\u001b[0m\u001b[0m\n\u001b[0m",
      "\u001b[0;31mNameError\u001b[0m: name 'training_curve' is not defined"
     ]
    }
   ],
   "source": [
    "plt.plot(training_curve)"
   ]
  },
  {
   "cell_type": "code",
   "execution_count": null,
   "id": "370d6455",
   "metadata": {},
   "outputs": [],
   "source": [
    "y_hat = maj_model.model_forward(X=X)"
   ]
  },
  {
   "cell_type": "code",
   "execution_count": null,
   "id": "e954dc52",
   "metadata": {},
   "outputs": [],
   "source": []
  },
  {
   "cell_type": "code",
   "execution_count": 16,
   "id": "fdacd45e",
   "metadata": {},
   "outputs": [
    {
     "data": {
      "text/plain": [
       "11.026390572827546"
      ]
     },
     "execution_count": 16,
     "metadata": {},
     "output_type": "execute_result"
    }
   ],
   "source": [
    "np.sum(np.square(y_true-y_hat))/392"
   ]
  },
  {
   "cell_type": "code",
   "execution_count": null,
   "id": "0aaa80b2",
   "metadata": {},
   "outputs": [],
   "source": []
  },
  {
   "cell_type": "code",
   "execution_count": null,
   "id": "fadb7380",
   "metadata": {},
   "outputs": [],
   "source": []
  },
  {
   "cell_type": "code",
   "execution_count": null,
   "id": "8faad4c0",
   "metadata": {},
   "outputs": [],
   "source": [
    "\n"
   ]
  },
  {
   "cell_type": "code",
   "execution_count": null,
   "id": "528b15b7",
   "metadata": {},
   "outputs": [],
   "source": []
  },
  {
   "cell_type": "code",
   "execution_count": null,
   "id": "734a6737",
   "metadata": {},
   "outputs": [],
   "source": []
  },
  {
   "cell_type": "code",
   "execution_count": null,
   "id": "6af67ec6",
   "metadata": {
    "scrolled": true,
    "tags": []
   },
   "outputs": [],
   "source": []
  },
  {
   "cell_type": "code",
   "execution_count": null,
   "id": "edd7562e",
   "metadata": {},
   "outputs": [],
   "source": []
  },
  {
   "cell_type": "code",
   "execution_count": null,
   "id": "225c3ef6",
   "metadata": {},
   "outputs": [],
   "source": [
    "y_true"
   ]
  },
  {
   "cell_type": "code",
   "execution_count": null,
   "id": "830ef1ce",
   "metadata": {},
   "outputs": [],
   "source": []
  },
  {
   "cell_type": "code",
   "execution_count": null,
   "id": "ddd54a54",
   "metadata": {},
   "outputs": [],
   "source": []
  },
  {
   "cell_type": "code",
   "execution_count": null,
   "id": "0bb4c1b4",
   "metadata": {},
   "outputs": [],
   "source": []
  },
  {
   "cell_type": "code",
   "execution_count": null,
   "id": "66fe1c80",
   "metadata": {},
   "outputs": [],
   "source": [
    "\n"
   ]
  },
  {
   "cell_type": "code",
   "execution_count": null,
   "id": "adba3363",
   "metadata": {},
   "outputs": [],
   "source": []
  },
  {
   "cell_type": "code",
   "execution_count": null,
   "id": "905d7dd0",
   "metadata": {},
   "outputs": [],
   "source": []
  }
 ],
 "metadata": {
  "kernelspec": {
   "display_name": "Python 3.7.7 64-bit",
   "language": "python",
   "name": "python37764bit997d09576aa74ff4813aaba433d46f27"
  },
  "language_info": {
   "codemirror_mode": {
    "name": "ipython",
    "version": 3
   },
   "file_extension": ".py",
   "mimetype": "text/x-python",
   "name": "python",
   "nbconvert_exporter": "python",
   "pygments_lexer": "ipython3",
   "version": "3.7.7"
  }
 },
 "nbformat": 4,
 "nbformat_minor": 5
}
